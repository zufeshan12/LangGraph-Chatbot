{
 "cells": [
  {
   "cell_type": "code",
   "execution_count": 20,
   "id": "f5a888ca",
   "metadata": {},
   "outputs": [],
   "source": [
    "from langgraph.graph import StateGraph,START,END\n",
    "from langchain_openai import ChatOpenAI\n",
    "from typing import TypedDict,Literal,Annotated\n",
    "from langchain_core.messages import BaseMessage,HumanMessage\n",
    "from langgraph.checkpoint.memory import MemorySaver\n",
    "from langgraph.graph.message import add_messages\n",
    "from dotenv import load_dotenv"
   ]
  },
  {
   "cell_type": "code",
   "execution_count": 21,
   "id": "bdd34df7",
   "metadata": {},
   "outputs": [
    {
     "data": {
      "text/plain": [
       "True"
      ]
     },
     "execution_count": 21,
     "metadata": {},
     "output_type": "execute_result"
    }
   ],
   "source": [
    "load_dotenv()"
   ]
  },
  {
   "cell_type": "code",
   "execution_count": 22,
   "id": "a25f3db0",
   "metadata": {},
   "outputs": [],
   "source": [
    "class ChatbotState(TypedDict):\n",
    "    messages: Annotated[list[BaseMessage],add_messages]"
   ]
  },
  {
   "cell_type": "code",
   "execution_count": 23,
   "id": "d4faa0ac",
   "metadata": {},
   "outputs": [],
   "source": [
    "llm = ChatOpenAI(model=\"gpt-4o-mini\")\n",
    "\n",
    "def chat_node(state:ChatbotState):\n",
    "    \n",
    "    response = llm.invoke(state[\"messages\"])\n",
    "    return {\"messages\":[response]}\n"
   ]
  },
  {
   "cell_type": "code",
   "execution_count": 24,
   "id": "4015bcda",
   "metadata": {},
   "outputs": [],
   "source": [
    "# add checkpointer to utilize local memory for chat history\n",
    "checkpointer = MemorySaver()\n",
    "# create graph with nodes and edges\n",
    "graph = StateGraph(ChatbotState)\n",
    "\n",
    "graph.add_node(\"chat_node\",chat_node)\n",
    "\n",
    "graph.add_edge(START,\"chat_node\")\n",
    "graph.add_edge(\"chat_node\",END)\n",
    "# compile graph to create chatbot object\n",
    "chatbot = graph.compile(checkpointer=checkpointer)"
   ]
  },
  {
   "cell_type": "code",
   "execution_count": 25,
   "id": "77403e3b",
   "metadata": {},
   "outputs": [
    {
     "name": "stdout",
     "output_type": "stream",
     "text": [
      "User: Hi,my name is Zufeshan\n",
      "AI: Hello Zufeshan! How can I assist you today?\n",
      "User: what is my name?\n",
      "AI: Your name is Zufeshan. How can I assist you further?\n",
      "User: Can you add 100 to 200\n",
      "AI: Sure! Adding 100 to 200 gives you 300.\n",
      "User: now multiply the result by 2\n",
      "AI: Multiplying 300 by 2 gives you 600.\n",
      "User: awesome !, you remember the conversation\n",
      "AI: I don't have the ability to remember past interactions once the conversation ends. However, I can reference what we've talked about during our current session. If you have any other questions or need assistance, feel free to ask!\n",
      "User: thank you\n",
      "AI: You're welcome, Zufeshan! If you have any more questions or need help with anything else, just let me know.\n",
      "User: end\n"
     ]
    }
   ],
   "source": [
    "# create a thread id for chat history\n",
    "thread_id = \"1\"\n",
    "# start chatting with AI chatbot\n",
    "while True:\n",
    "    user_query = input(\"type here:\")\n",
    "    print(f\"User: {user_query}\")\n",
    "    \n",
    "    # loop exit criteria\n",
    "    if user_query.strip().lower() in ['exit','bye','end','quit']:\n",
    "        break \n",
    "\n",
    "    #create config for memory allocation to chat history\n",
    "    config = {'configurable':{'thread_id':thread_id}}\n",
    "    response = chatbot.invoke({\"messages\": [HumanMessage(content=user_query)]},config=config)\n",
    "    print(f\"AI: {response['messages'][-1].content}\")\n",
    "\n",
    "    \n"
   ]
  },
  {
   "cell_type": "code",
   "execution_count": null,
   "id": "560395fc",
   "metadata": {},
   "outputs": [],
   "source": []
  }
 ],
 "metadata": {
  "kernelspec": {
   "display_name": "venv",
   "language": "python",
   "name": "python3"
  },
  "language_info": {
   "codemirror_mode": {
    "name": "ipython",
    "version": 3
   },
   "file_extension": ".py",
   "mimetype": "text/x-python",
   "name": "python",
   "nbconvert_exporter": "python",
   "pygments_lexer": "ipython3",
   "version": "3.10.9"
  }
 },
 "nbformat": 4,
 "nbformat_minor": 5
}
