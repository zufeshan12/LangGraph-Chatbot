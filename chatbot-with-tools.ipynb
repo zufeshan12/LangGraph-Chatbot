{
 "cells": [
  {
   "cell_type": "code",
   "execution_count": null,
   "id": "f5a888ca",
   "metadata": {},
   "outputs": [],
   "source": [
    "from langgraph.graph import StateGraph,START,END\n",
    "from langchain_openai import ChatOpenAI\n",
    "from typing import TypedDict,Literal,Annotated\n",
    "from langchain_core.messages import BaseMessage,HumanMessage,AIMessage\n",
    "from langgraph.checkpoint.memory import MemorySaver\n",
    "from langgraph.checkpoint.sqlite import SqliteSaver\n",
    "from langgraph.graph.message import add_messages\n",
    "import sqlite3\n",
    "from dotenv import load_dotenv"
   ]
  },
  {
   "cell_type": "code",
   "execution_count": 39,
   "id": "80fc0ca3",
   "metadata": {},
   "outputs": [],
   "source": [
    "from langchain_core.tools import tool\n",
    "from langchain_community.tools import DuckDuckGoSearchRun\n",
    "from langgraph.prebuilt import ToolNode,tools_condition\n",
    "import requests\n",
    "import json"
   ]
  },
  {
   "cell_type": "code",
   "execution_count": 3,
   "id": "bdd34df7",
   "metadata": {},
   "outputs": [
    {
     "data": {
      "text/plain": [
       "True"
      ]
     },
     "execution_count": 3,
     "metadata": {},
     "output_type": "execute_result"
    }
   ],
   "source": [
    "load_dotenv()"
   ]
  },
  {
   "cell_type": "code",
   "execution_count": 4,
   "id": "a25f3db0",
   "metadata": {},
   "outputs": [],
   "source": [
    "class ChatbotState(TypedDict):\n",
    "    messages: Annotated[list[BaseMessage],add_messages]"
   ]
  },
  {
   "cell_type": "code",
   "execution_count": 52,
   "id": "c633ec70",
   "metadata": {},
   "outputs": [],
   "source": [
    "# tools defined here\n",
    "\n",
    "# ddgs tool to search the web\n",
    "search_tool = DuckDuckGoSearchRun(region=\"us-en\")\n",
    "\n",
    "# calculator tool\n",
    "@tool\n",
    "def calculator(a:float,b:float,operation:str) -> dict:\n",
    "    \"\"\"\n",
    "    Performs basic arithmetic operations on two numbers.\n",
    "    Supported operations : add,subs,mul,divide,power.\n",
    "    \"\"\"\n",
    "    try:\n",
    "        if operation == \"add\":\n",
    "            result = a + b\n",
    "        elif operation == \"sub\":\n",
    "            result = a - b\n",
    "        elif operation == \"mul\":\n",
    "            result = a * b\n",
    "        elif operation == \"div\":\n",
    "            if b == 0:\n",
    "                return {\"error\": \"Division by zero is not allowed\"}\n",
    "            result = a / b\n",
    "        elif operation == 'pow':\n",
    "            return a**b\n",
    "        else:\n",
    "            return {\"error\": f\"Unsupported operation '{operation}'\"}\n",
    "        \n",
    "        return {\"a\": a, \"b\": b, \"operation\": operation, \"result\": result}\n",
    "    except Exception as e:\n",
    "        return {\"error\": str(e)}\n",
    "\n",
    "# weather tool to report current weather of a city\n",
    "@tool\n",
    "def weather(city:str) -> dict:\n",
    "    \"\"\"\n",
    "    Return the current weather for a given city.\n",
    "    Args:\n",
    "        city (str): Name of the city to fetch weather data for.\n",
    "\n",
    "    Returns:\n",
    "        dict: A dictionary containing weather details such as \n",
    "              temperature, humidity, conditions, and wind speed.\n",
    "    \"\"\"\n",
    "    url = f\"https://api.tomorrow.io/v4/weather/forecast?location={city}&apikey=iQP7fDt1h8PP1VC0pQKhZwtJp8eqM6RZ\"\n",
    "    headers = {\"accept\": \"application/json\"}\n",
    "    response = requests.get(url=url,headers=headers)\n",
    "    data = json.loads(response.text)\n",
    "\n",
    "    return data['timelines']['daily'][0]"
   ]
  },
  {
   "cell_type": "code",
   "execution_count": null,
   "id": "b24c10cc",
   "metadata": {},
   "outputs": [
    {
     "name": "stdout",
     "output_type": "stream",
     "text": [
      "{'time': '2025-09-24T11:00:00Z', 'values': {'altimeterSettingAvg': 1022.79, 'altimeterSettingMax': 1025.54, 'altimeterSettingMin': 1019.33, 'cloudBaseAvg': 2.6, 'cloudBaseMax': 9.1, 'cloudBaseMin': 1, 'cloudCeilingAvg': 7.7, 'cloudCeilingMax': 12.6, 'cloudCeilingMin': 0, 'cloudCoverAvg': 92, 'cloudCoverMax': 100, 'cloudCoverMin': 48, 'dewPointAvg': 12.6, 'dewPointMax': 15, 'dewPointMin': 10.2, 'evapotranspirationAvg': 0.192, 'evapotranspirationMax': 0.502, 'evapotranspirationMin': 0.012, 'evapotranspirationSum': 4.619, 'freezingRainIntensityAvg': 0, 'freezingRainIntensityMax': 0, 'freezingRainIntensityMin': 0, 'humidityAvg': 72, 'humidityMax': 87, 'humidityMin': 50, 'iceAccumulationAvg': 0, 'iceAccumulationLweAvg': 0, 'iceAccumulationLweMax': 0, 'iceAccumulationLweMin': 0, 'iceAccumulationLweSum': 0, 'iceAccumulationMax': 0, 'iceAccumulationMin': 0, 'iceAccumulationSum': 0, 'moonriseTime': '2025-09-24T12:46:28Z', 'moonsetTime': '2025-09-24T00:16:35Z', 'precipitationProbabilityAvg': 3.1, 'precipitationProbabilityMax': 20, 'precipitationProbabilityMin': 0, 'pressureSeaLevelAvg': 1015.22, 'pressureSeaLevelMax': 1018.2, 'pressureSeaLevelMin': 1010.68, 'pressureSurfaceLevelAvg': 820.68, 'pressureSurfaceLevelMax': 822.97, 'pressureSurfaceLevelMin': 817.77, 'rainAccumulationAvg': 0.01, 'rainAccumulationMax': 0.07, 'rainAccumulationMin': 0, 'rainAccumulationSum': 0.3, 'rainIntensityAvg': 0.03, 'rainIntensityMax': 0.22, 'rainIntensityMin': 0, 'sleetAccumulationAvg': 0, 'sleetAccumulationLweAvg': 0, 'sleetAccumulationLweMax': 0, 'sleetAccumulationLweMin': 0, 'sleetAccumulationLweSum': 0, 'sleetAccumulationMax': 0, 'sleetAccumulationMin': 0, 'sleetIntensityAvg': 0, 'sleetIntensityMax': 0, 'sleetIntensityMin': 0, 'snowAccumulationAvg': 0, 'snowAccumulationLweAvg': 0, 'snowAccumulationLweMax': 0, 'snowAccumulationLweMin': 0, 'snowAccumulationLweSum': 0, 'snowAccumulationMax': 0, 'snowAccumulationMin': 0, 'snowAccumulationSum': 0, 'snowIntensityAvg': 0, 'snowIntensityMax': 0, 'snowIntensityMin': 0, 'sunriseTime': '2025-09-24T10:45:00Z', 'sunsetTime': '2025-09-24T22:52:00Z', 'temperatureApparentAvg': 17.9, 'temperatureApparentMax': 24.9, 'temperatureApparentMin': 12.5, 'temperatureAvg': 17.9, 'temperatureMax': 24.9, 'temperatureMin': 12.5, 'uvHealthConcernAvg': 1, 'uvHealthConcernMax': 4, 'uvHealthConcernMin': 0, 'uvIndexAvg': 3, 'uvIndexMax': 10, 'uvIndexMin': 0, 'visibilityAvg': 15.04, 'visibilityMax': 16, 'visibilityMin': 8.47, 'weatherCodeMax': 1001, 'weatherCodeMin': 1001, 'windDirectionAvg': 167, 'windGustAvg': 6.1, 'windGustMax': 8.6, 'windGustMin': 2.8, 'windSpeedAvg': 1.4, 'windSpeedMax': 3, 'windSpeedMin': 0.1}}\n"
     ]
    }
   ],
   "source": [
    "# demo of weather api\n",
    "url = f\"https://api.tomorrow.io/v4/weather/forecast?location=San%Francisco&apikey=iQP7fDt1h8PP1VC0pQKhZwtJp8eqM6RZ\"\n",
    "headers = {\"accept\": \"application/json\"}\n",
    "response = requests.get(url=url,headers=headers)\n",
    "data = json.loads(response.text)\n",
    "print(data['timelines']['daily'][0])"
   ]
  },
  {
   "cell_type": "code",
   "execution_count": 53,
   "id": "ae06dd45",
   "metadata": {},
   "outputs": [],
   "source": [
    "llm = ChatOpenAI(model=\"gpt-4o-mini\")\n",
    "\n",
    "# tool binding\n",
    "tools = [search_tool,calculator,weather]\n",
    "llm_with_tools = llm.bind_tools(tools=tools)\n"
   ]
  },
  {
   "cell_type": "code",
   "execution_count": 54,
   "id": "d4faa0ac",
   "metadata": {},
   "outputs": [],
   "source": [
    "# define nodes\n",
    "def chat_node(state:ChatbotState):\n",
    "    \"\"\"\n",
    "    LLM node that may answer or request a tool call.\n",
    "    \"\"\"\n",
    "    response = llm_with_tools.invoke(state[\"messages\"])\n",
    "    return {\"messages\":[response]}\n",
    "\n",
    "tool_node = ToolNode(tools=tools)\n"
   ]
  },
  {
   "cell_type": "code",
   "execution_count": 55,
   "id": "4015bcda",
   "metadata": {},
   "outputs": [],
   "source": [
    "# add sqlite checkpointer to store and preserve chat history across threads\n",
    "conn = sqlite3.Connection(\"chatbot.sqlite\",check_same_thread=False)\n",
    "checkpointer = SqliteSaver(conn=conn)\n",
    "\n",
    "# create graph with nodes and edges\n",
    "graph = StateGraph(ChatbotState)\n",
    "\n",
    "graph.add_node(\"chat_node\",chat_node)\n",
    "graph.add_node(\"tools\",tool_node)\n",
    "\n",
    "graph.add_edge(START,\"chat_node\")\n",
    "graph.add_conditional_edges(\"chat_node\",tools_condition)\n",
    "graph.add_edge(\"tools\",\"chat_node\")\n",
    "#graph.add_edge(\"chat_node\",END)\n",
    "\n",
    "# compile graph to create chatbot object\n",
    "chatbot = graph.compile(checkpointer=checkpointer)"
   ]
  },
  {
   "cell_type": "code",
   "execution_count": 56,
   "id": "16585cbe",
   "metadata": {},
   "outputs": [
    {
     "data": {
      "image/png": "[encoded data removed]",
      "text/plain": [
       "<langgraph.graph.state.CompiledStateGraph object at 0x7fc13267ea70>"
      ]
     },
     "execution_count": 56,
     "metadata": {},
     "output_type": "execute_result"
    }
   ],
   "source": [
    "chatbot"
   ]
  },
  {
   "cell_type": "code",
   "execution_count": 58,
   "id": "77403e3b",
   "metadata": {},
   "outputs": [
    {
     "name": "stdout",
     "output_type": "stream",
     "text": [
      "User: Hi\n",
      "AI: \n",
      "Hello again! How can I assist you today?\n",
      "User: temperature at San Jose\n",
      "AI: \n",
      "The current temperature in San Jose is approximately **27.1°C**. If you need more information or have any other questions, feel free to ask!\n",
      "User: what is 3434 - 4545\n",
      "AI: \n",
      "It seems there was an error with the subtraction operation. However, if you want to add the numbers, \\( 3434 + 4545\\) equals \\( 7979\\).\n",
      "\n",
      "If you need the result for the subtraction \\( 3434 - 4545\\), it equals \\( -1111\\). Let me know if you have any more questions!\n",
      "User: quit\n"
     ]
    }
   ],
   "source": [
    "# create a thread id for chat history\n",
    "thread_id = \"1\"\n",
    "# start chatting with AI chatbot\n",
    "while True:\n",
    "    user_query = input(\"type here:\")\n",
    "    print(f\"User: {user_query}\")\n",
    "    \n",
    "    # loop exit criteria\n",
    "    if user_query.strip().lower() in ['exit','bye','end','quit']:\n",
    "        break \n",
    "\n",
    "    #create config for memory allocation to chat history\n",
    "    CONFIG = {'configurable':{'thread_id':thread_id}}\n",
    "    #response = chatbot.invoke({\"messages\": [HumanMessage(content=user_query)]},config=config)\n",
    "    print(f\"AI: \")\n",
    "    for msg_chunk,metadata in chatbot.stream({'messages':HumanMessage(content=user_query)},\n",
    "                                             config=CONFIG,\n",
    "                                             stream_mode=\"messages\"):\n",
    "        if msg_chunk.content and isinstance(msg_chunk,AIMessage):\n",
    "            print(msg_chunk.content,end=\"\",flush=True)\n",
    "    print(end='\\n')\n",
    "    \n"
   ]
  },
  {
   "cell_type": "code",
   "execution_count": 10,
   "id": "560395fc",
   "metadata": {},
   "outputs": [
    {
     "name": "stdout",
     "output_type": "stream",
     "text": [
      "User: what is my name?\n",
      "AI: \n",
      "Your name is Alicia. How can I help you today?\n",
      "User: excellent!\n",
      "AI: \n",
      "I’m glad you think so! What’s on your mind today?\n",
      "User: ok bye\n",
      "AI: \n",
      "Goodbye, Alicia! If you have more questions later, feel free to come back. Take care!\n",
      "User: quit\n"
     ]
    }
   ],
   "source": [
    "# create a thread id for chat history\n",
    "thread_id = \"2\"\n",
    "# start chatting with AI chatbot\n",
    "while True:\n",
    "    user_query = input(\"type here:\")\n",
    "    print(f\"User: {user_query}\")\n",
    "    \n",
    "    # loop exit criteria\n",
    "    if user_query.strip().lower() in ['exit','bye','end','quit']:\n",
    "        break \n",
    "\n",
    "    #create config for memory allocation to chat history\n",
    "    CONFIG = {'configurable':{'thread_id':thread_id}}\n",
    "    #response = chatbot.invoke({\"messages\": [HumanMessage(content=user_query)]},config=config)\n",
    "    print(f\"AI: \")\n",
    "    for msg_chunk,metadata in chatbot.stream({'messages':HumanMessage(content=user_query)},\n",
    "                                             config=CONFIG,\n",
    "                                             stream_mode=\"messages\"):\n",
    "        if msg_chunk.content:\n",
    "            print(msg_chunk.content,end=\"\",flush=True)\n",
    "    print(end='\\n')\n",
    "    \n"
   ]
  }
 ],
 "metadata": {
  "kernelspec": {
   "display_name": "venv",
   "language": "python",
   "name": "python3"
  },
  "language_info": {
   "codemirror_mode": {
    "name": "ipython",
    "version": 3
   },
   "file_extension": ".py",
   "mimetype": "text/x-python",
   "name": "python",
   "nbconvert_exporter": "python",
   "pygments_lexer": "ipython3",
   "version": "3.10.9"
  }
 },
 "nbformat": 4,
 "nbformat_minor": 5
}
